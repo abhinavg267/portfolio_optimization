{
 "cells": [
  {
   "cell_type": "code",
   "execution_count": 144,
   "metadata": {
    "collapsed": true
   },
   "outputs": [],
   "source": [
    "import numpy as np\n",
    "from scipy.optimize import l"
   ]
  },
  {
   "cell_type": "code",
   "execution_count": 145,
   "metadata": {
    "collapsed": true
   },
   "outputs": [],
   "source": [
    "# Number of assets N\n",
    "N = 4\n",
    "# Expected return of each asset\n",
    "R = [0.05,0.01,0.04,0.09]\n",
    "# required return\n",
    "required_Return = 0.04"
   ]
  },
  {
   "cell_type": "code",
   "execution_count": 146,
   "metadata": {},
   "outputs": [
    {
     "data": {
      "text/plain": [
       "[0.05, 0.01, 0.04, 0.09]"
      ]
     },
     "execution_count": 146,
     "metadata": {},
     "output_type": "execute_result"
    }
   ],
   "source": [
    "R"
   ]
  },
  {
   "cell_type": "code",
   "execution_count": 147,
   "metadata": {
    "collapsed": true
   },
   "outputs": [],
   "source": [
    "x0 = np.random.dirichlet(np.ones(N))"
   ]
  },
  {
   "cell_type": "code",
   "execution_count": 148,
   "metadata": {
    "collapsed": true
   },
   "outputs": [],
   "source": [
    "def neg_dev(a):\n",
    "    if a>0:\n",
    "        return a\n",
    "    return 0"
   ]
  },
  {
   "cell_type": "code",
   "execution_count": 149,
   "metadata": {
    "collapsed": true
   },
   "outputs": [],
   "source": [
    "def objective(X):\n",
    "    mean_portfolio_Return = sum(X*R)/N\n",
    "    deviation = mean_portfolio_Return-X*R\n",
    "    neg_deviation = [neg_dev(xi) for xi in deviation]\n",
    "    mand = sum(neg_deviation)/N  \n",
    "    return mand"
   ]
  },
  {
   "cell_type": "code",
   "execution_count": 150,
   "metadata": {
    "collapsed": true
   },
   "outputs": [],
   "source": [
    "def constraint1(X):\n",
    "    return sum(X*R)-required_Return\n",
    "\n",
    "def constraint2(X):\n",
    "    return sum(X)-1\n",
    "\n",
    "b = (0,1)\n",
    "bnds = []\n",
    "for i in range(N):\n",
    "    bnds.append(b)\n",
    "con1 = {'type':'ineq','fun':constraint1}\n",
    "con2 = {'type':'eq','fun':constraint2}\n",
    "#cons = [con2]\n",
    "cons = [con1,con2]"
   ]
  },
  {
   "cell_type": "code",
   "execution_count": 151,
   "metadata": {
    "collapsed": true
   },
   "outputs": [],
   "source": [
    "sol = minimize(objective,x0,constraints=cons,bounds=bnds)"
   ]
  },
  {
   "cell_type": "code",
   "execution_count": 152,
   "metadata": {},
   "outputs": [
    {
     "data": {
      "text/plain": [
       "     fun: 0.0016184189095156628\n",
       "     jac: array([ 0.003125, -0.001875,  0.0025  ,  0.005625])\n",
       " message: 'Optimization terminated successfully.'\n",
       "    nfev: 56\n",
       "     nit: 8\n",
       "    njev: 8\n",
       "  status: 0\n",
       " success: True\n",
       "       x: array([ 0.23211879,  0.35263244,  0.25009307,  0.1651557 ])"
      ]
     },
     "execution_count": 152,
     "metadata": {},
     "output_type": "execute_result"
    }
   ],
   "source": [
    "sol"
   ]
  },
  {
   "cell_type": "code",
   "execution_count": 153,
   "metadata": {},
   "outputs": [
    {
     "data": {
      "text/plain": [
       "0.0066573469433484581"
      ]
     },
     "execution_count": 153,
     "metadata": {},
     "output_type": "execute_result"
    }
   ],
   "source": [
    "objective(x0)"
   ]
  },
  {
   "cell_type": "code",
   "execution_count": 154,
   "metadata": {},
   "outputs": [
    {
     "data": {
      "text/plain": [
       "0.0016184189095156628"
      ]
     },
     "execution_count": 154,
     "metadata": {},
     "output_type": "execute_result"
    }
   ],
   "source": [
    "objective(sol.x)"
   ]
  },
  {
   "cell_type": "code",
   "execution_count": 155,
   "metadata": {},
   "outputs": [
    {
     "data": {
      "text/plain": [
       "-6.3479013712175458e-12"
      ]
     },
     "execution_count": 155,
     "metadata": {},
     "output_type": "execute_result"
    }
   ],
   "source": [
    "sum(sol.x*R)-required_Return"
   ]
  },
  {
   "cell_type": "code",
   "execution_count": 2,
   "metadata": {},
   "outputs": [
    {
     "name": "stdout",
     "output_type": "stream",
     "text": [
      "20.0\n",
      "60.0\n"
     ]
    }
   ],
   "source": [
    "from pulp import *\n",
    "\n",
    "# declare your variables\n",
    "x1 = LpVariable(\"x1\", 0, 40)   # 0<= x1 <= 40\n",
    "x2 = LpVariable(\"x2\", 0, 1000) # 0<= x2 <= 1000\n",
    " \n",
    "# defines the problem\n",
    "prob = LpProblem(\"problem\", LpMaximize)\n",
    " \n",
    "# defines the constraints\n",
    "prob += 2*x1+x2 <= 100 \n",
    "prob += x1+x2 <= 80\n",
    "prob += x1<=40\n",
    "prob += x1>=0\n",
    "prob += x2>=0\n",
    " \n",
    "# defines the objective function to maximize\n",
    "prob += 3*x1+2*x2\n",
    " \n",
    "# solve the problem\n",
    "status = prob.solve(GLPK(msg=0))\n",
    "LpStatus[status]\n",
    " \n",
    "# print the results x1 = 20, x2 = 60\n",
    "print(value(x1))\n",
    "print(value(x2))"
   ]
  },
  {
   "cell_type": "code",
   "execution_count": null,
   "metadata": {
    "collapsed": true
   },
   "outputs": [],
   "source": []
  }
 ],
 "metadata": {
  "kernelspec": {
   "display_name": "Python 3",
   "language": "python",
   "name": "python3"
  },
  "language_info": {
   "codemirror_mode": {
    "name": "ipython",
    "version": 3
   },
   "file_extension": ".py",
   "mimetype": "text/x-python",
   "name": "python",
   "nbconvert_exporter": "python",
   "pygments_lexer": "ipython3",
   "version": "3.5.2"
  }
 },
 "nbformat": 4,
 "nbformat_minor": 2
}
